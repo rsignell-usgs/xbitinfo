{
 "cells": [
  {
   "cell_type": "code",
   "execution_count": null,
   "id": "7a8c393c-169b-4b87-80ad-1936a48af4b3",
   "metadata": {},
   "outputs": [],
   "source": [
    "import xarray as xr\n",
    "import xbitinfo as xb"
   ]
  },
  {
   "cell_type": "code",
   "execution_count": null,
   "id": "275d3622-5472-4fd8-80df-bc45e175d500",
   "metadata": {},
   "outputs": [],
   "source": [
    "ds= xr.tutorial.load_dataset(\"air_temperature\")\n",
    "bitinfo = xb.get_bitinformation(ds, dim=\"lon\")  # calling bitinformation.jl.bitinformation\n",
    "keepbits = xb.get_keepbits(bitinfo, inflevel=0.99)  # get number of mantissa bits to keep for 99% real information\n",
    "ds_bitrounded = xb.xr_bitround(ds, keepbits)  # bitrounding keeping only keepbits mantissa bits\n",
    "ds_bitrounded.to_compressed_netcdf('air_temperature_99.nc')  # save to netcdf with compression"
   ]
  }
 ],
 "metadata": {
  "kernelspec": {
   "display_name": "pangeo:Python",
   "language": "python",
   "name": "conda-env-pangeo-py"
  },
  "language_info": {
   "codemirror_mode": {
    "name": "ipython",
    "version": 3
   },
   "file_extension": ".py",
   "mimetype": "text/x-python",
   "name": "python",
   "nbconvert_exporter": "python",
   "pygments_lexer": "ipython3",
   "version": "3.9.10"
  }
 },
 "nbformat": 4,
 "nbformat_minor": 5
}
